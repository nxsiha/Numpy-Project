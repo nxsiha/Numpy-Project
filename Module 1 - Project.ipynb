{
 "cells": [
  {
   "cell_type": "code",
   "execution_count": 13,
   "metadata": {
    "collapsed": false
   },
   "outputs": [],
   "source": [
    "from numpy import *"
   ]
  },
  {
   "cell_type": "code",
   "execution_count": 14,
   "metadata": {
    "collapsed": true
   },
   "outputs": [],
   "source": [
    "import numpy as np"
   ]
  },
  {
   "cell_type": "code",
   "execution_count": 78,
   "metadata": {
    "collapsed": false
   },
   "outputs": [
    {
     "data": {
      "text/plain": [
       "array([[0, 1, 2],\n",
       "       [3, 4, 5],\n",
       "       [6, 7, 8]])"
      ]
     },
     "execution_count": 78,
     "metadata": {},
     "output_type": "execute_result"
    }
   ],
   "source": [
    "G = array([[0,1,2],[3,4,5],[6,7,8]])\n",
    "\n",
    "G"
   ]
  },
  {
   "cell_type": "code",
   "execution_count": 21,
   "metadata": {
    "collapsed": false
   },
   "outputs": [
    {
     "name": "stdout",
     "output_type": "stream",
     "text": [
      "10\n",
      "10\n"
     ]
    }
   ],
   "source": [
    "print(sum(range(5),-1))\n",
    "from numpy import *\n",
    "print(sum(range(5),-1))"
   ]
  },
  {
   "cell_type": "code",
   "execution_count": 22,
   "metadata": {
    "collapsed": false
   },
   "outputs": [
    {
     "name": "stderr",
     "output_type": "stream",
     "text": [
      "//anaconda/lib/python3.6/site-packages/ipykernel/__main__.py:1: RuntimeWarning: invalid value encountered in sqrt\n",
      "  if __name__ == '__main__':\n"
     ]
    },
    {
     "data": {
      "text/plain": [
       "False"
      ]
     },
     "execution_count": 22,
     "metadata": {},
     "output_type": "execute_result"
    }
   ],
   "source": [
    "np.sqrt(-1) == np.emath.sqrt(-1)"
   ]
  },
  {
   "cell_type": "code",
   "execution_count": 30,
   "metadata": {
    "collapsed": false
   },
   "outputs": [
    {
     "data": {
      "text/plain": [
       "array([[ 0.1178489 ,  0.36458839,  0.02645159,  0.79472001,  0.77328189,\n",
       "         0.96428924,  0.46407114,  0.43380851,  0.02680998,  0.7828265 ,\n",
       "         0.91312115,  0.06066217,  0.30188767,  0.92409663,  0.00970068,\n",
       "         0.89491664,  0.60173859,  0.81896093,  0.17489518,  0.98235282,\n",
       "         0.58601886,  0.11973234,  0.36051914,  0.57651959,  0.66499875,\n",
       "         0.12931587,  0.43115512,  0.79157178,  0.04538297,  0.39831896]])"
      ]
     },
     "execution_count": 30,
     "metadata": {},
     "output_type": "execute_result"
    }
   ],
   "source": [
    "A = random.rand(1,30)\n",
    "\n",
    "A"
   ]
  },
  {
   "cell_type": "code",
   "execution_count": 34,
   "metadata": {
    "collapsed": false
   },
   "outputs": [
    {
     "data": {
      "text/plain": [
       "30"
      ]
     },
     "execution_count": 34,
     "metadata": {},
     "output_type": "execute_result"
    }
   ],
   "source": [
    "size(A)"
   ]
  },
  {
   "cell_type": "code",
   "execution_count": 33,
   "metadata": {
    "collapsed": false
   },
   "outputs": [
    {
     "data": {
      "text/plain": [
       "0.48448539910987903"
      ]
     },
     "execution_count": 33,
     "metadata": {},
     "output_type": "execute_result"
    }
   ],
   "source": [
    "mean(A)"
   ]
  },
  {
   "cell_type": "code",
   "execution_count": 55,
   "metadata": {
    "collapsed": false
   },
   "outputs": [
    {
     "name": "stdout",
     "output_type": "stream",
     "text": [
      "[[ 0.54020311  0.49489176]\n",
      " [ 0.46834298  0.81937196]\n",
      " [ 0.79928372  1.35885873]\n",
      " [ 0.40135265  1.01157399]\n",
      " [ 0.51926794  0.96696203]]\n",
      "[[ 0.54020311  0.49489176]\n",
      " [ 0.46834298  0.81937196]\n",
      " [ 0.79928372  1.35885873]\n",
      " [ 0.40135265  1.01157399]\n",
      " [ 0.51926794  0.96696203]]\n"
     ]
    }
   ],
   "source": [
    "B = random.rand(5,3)\n",
    "B = matrix(B)\n",
    "\n",
    "C = random.rand(3,2)\n",
    "C = matrix(C)\n",
    "\n",
    "print(B * C)\n",
    "\n",
    "print(dot (B,C))"
   ]
  },
  {
   "cell_type": "code",
   "execution_count": 57,
   "metadata": {
    "collapsed": false
   },
   "outputs": [
    {
     "data": {
      "text/plain": [
       "array([ 0.7845027 ,  0.65508854,  0.60027652,  0.8684271 ,  0.14556244,\n",
       "        0.90294431,  0.33754626,  0.56069159,  0.78772759,  0.9937006 ])"
      ]
     },
     "execution_count": 57,
     "metadata": {},
     "output_type": "execute_result"
    }
   ],
   "source": [
    "E = random.rand(10)\n",
    "E"
   ]
  },
  {
   "cell_type": "code",
   "execution_count": 60,
   "metadata": {
    "collapsed": false
   },
   "outputs": [
    {
     "data": {
      "text/plain": [
       "array([ 0.14556244,  0.33754626,  0.56069159,  0.60027652,  0.65508854,\n",
       "        0.7845027 ,  0.78772759,  0.8684271 ,  0.90294431,  0.9937006 ])"
      ]
     },
     "execution_count": 60,
     "metadata": {},
     "output_type": "execute_result"
    }
   ],
   "source": [
    "sort(E)"
   ]
  },
  {
   "cell_type": "code",
   "execution_count": 144,
   "metadata": {
    "collapsed": false
   },
   "outputs": [
    {
     "data": {
      "text/plain": [
       "array([ 0.98398628,  0.61298819,  0.62901087,  0.600121  ,  0.25623211,\n",
       "        0.56722412,  0.64117106,  0.15140117,  0.98322387,  0.43390873,\n",
       "        0.30349296,  0.84929927,  0.40383809,  0.16155101,  0.60034811,\n",
       "        0.53053577,  0.3789086 ,  0.52240431,  0.82121212,  0.68961347,\n",
       "        0.27252234,  0.46697702,  0.04151009,  0.65464509,  0.7588707 ,\n",
       "        0.60780392,  0.00179738,  0.83960852,  0.05882847,  0.97967417,\n",
       "        0.77360286,  0.14027452,  0.11117202,  0.46911752,  0.130342  ,\n",
       "        0.9161489 ,  0.        ,  0.18733789,  0.08816636,  0.64577615,\n",
       "        0.7208012 ,  0.87654313,  0.7557348 ,  0.24614625,  0.19516893,\n",
       "        0.55001035,  0.04112849,  0.18110139,  0.104561  ,  0.79508674,\n",
       "        0.67119701,  0.99587152,  0.87045725,  0.94278687,  0.86951462,\n",
       "        0.00193986,  0.4684705 ,  0.19938582,  0.86452527,  0.23491035,\n",
       "        0.32487566,  0.07835227,  0.92074934,  0.90827457,  0.8237815 ,\n",
       "        0.7450772 ,  0.86200867,  0.78985399,  0.15331259,  0.23751215,\n",
       "        0.9029888 ,  0.48467764,  0.28700307,  0.68881459,  0.38016931,\n",
       "        0.04582543,  0.53934041,  0.74236329,  0.58457991,  0.92805881,\n",
       "        0.4144092 ,  0.77781692,  0.9118741 ,  0.89018201,  0.44525698,\n",
       "        0.24793967,  0.73538143,  0.65474961,  0.29625302,  0.2739017 ,\n",
       "        0.20201675,  0.34493975,  0.44051101,  0.08103847,  0.25004692,\n",
       "        0.0628054 ,  0.48317441,  0.87977045,  0.82896729,  0.7876803 ])"
      ]
     },
     "execution_count": 144,
     "metadata": {},
     "output_type": "execute_result"
    }
   ],
   "source": [
    "F = random.rand(100)\n",
    "\n",
    "F[np.where(F == np.max(F))] = 0\n",
    "\n",
    "F"
   ]
  },
  {
   "cell_type": "code",
   "execution_count": 114,
   "metadata": {
    "collapsed": false
   },
   "outputs": [
    {
     "data": {
      "text/plain": [
       "array([[ 1.,  0.,  0.],\n",
       "       [ 0.,  1.,  0.],\n",
       "       [ 0.,  0.,  1.]])"
      ]
     },
     "execution_count": 114,
     "metadata": {},
     "output_type": "execute_result"
    }
   ],
   "source": [
    "AA = random.rand(3,3)\n",
    "\n",
    "AA_inv = linalg.inv(AA)\n",
    "\n",
    "IAA = dot(AA,AA_inv)\n",
    "\n",
    "abs(np.round(IAA))"
   ]
  },
  {
   "cell_type": "code",
   "execution_count": 117,
   "metadata": {
    "collapsed": false
   },
   "outputs": [
    {
     "data": {
      "text/plain": [
       "array([[1, 2],\n",
       "       [2, 3]])"
      ]
     },
     "execution_count": 117,
     "metadata": {},
     "output_type": "execute_result"
    }
   ],
   "source": [
    "P = array([[1,2],[2,3]])\n",
    "\n",
    "P"
   ]
  },
  {
   "cell_type": "code",
   "execution_count": 123,
   "metadata": {
    "collapsed": false
   },
   "outputs": [
    {
     "data": {
      "text/plain": [
       "array([[ 1.,  0.],\n",
       "       [ 0.,  1.]])"
      ]
     },
     "execution_count": 123,
     "metadata": {},
     "output_type": "execute_result"
    }
   ],
   "source": [
    "P_inv = linalg.inv(P)\n",
    "\n",
    "IP = dot(P,P_inv)\n",
    "\n",
    "IP"
   ]
  }
 ],
 "metadata": {
  "kernelspec": {
   "display_name": "Python 3",
   "language": "python",
   "name": "python3"
  },
  "language_info": {
   "codemirror_mode": {
    "name": "ipython",
    "version": 3
   },
   "file_extension": ".py",
   "mimetype": "text/x-python",
   "name": "python",
   "nbconvert_exporter": "python",
   "pygments_lexer": "ipython3",
   "version": "3.6.0"
  }
 },
 "nbformat": 4,
 "nbformat_minor": 2
}
