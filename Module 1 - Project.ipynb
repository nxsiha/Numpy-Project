{
 "cells": [
  {
   "cell_type": "code",
   "execution_count": 13,
   "metadata": {
    "collapsed": false
   },
   "outputs": [],
   "source": [
    "from numpy import *"
   ]
  },
  {
   "cell_type": "code",
   "execution_count": 14,
   "metadata": {
    "collapsed": true
   },
   "outputs": [],
   "source": [
    "import numpy as np"
   ]
  },
  {
   "cell_type": "code",
   "execution_count": 78,
   "metadata": {
    "collapsed": false
   },
   "outputs": [
    {
     "data": {
      "text/plain": [
       "array([[0, 1, 2],\n",
       "       [3, 4, 5],\n",
       "       [6, 7, 8]])"
      ]
     },
     "execution_count": 78,
     "metadata": {},
     "output_type": "execute_result"
    }
   ],
   "source": [
    "G = array([[0,1,2],[3,4,5],[6,7,8]])\n",
    "\n",
    "G"
   ]
  },
  {
   "cell_type": "code",
   "execution_count": 21,
   "metadata": {
    "collapsed": false
   },
   "outputs": [
    {
     "name": "stdout",
     "output_type": "stream",
     "text": [
      "10\n",
      "10\n"
     ]
    }
   ],
   "source": [
    "print(sum(range(5),-1))\n",
    "from numpy import *\n",
    "print(sum(range(5),-1))"
   ]
  },
  {
   "cell_type": "code",
   "execution_count": 22,
   "metadata": {
    "collapsed": false
   },
   "outputs": [
    {
     "name": "stderr",
     "output_type": "stream",
     "text": [
      "//anaconda/lib/python3.6/site-packages/ipykernel/__main__.py:1: RuntimeWarning: invalid value encountered in sqrt\n",
      "  if __name__ == '__main__':\n"
     ]
    },
    {
     "data": {
      "text/plain": [
       "False"
      ]
     },
     "execution_count": 22,
     "metadata": {},
     "output_type": "execute_result"
    }
   ],
   "source": [
    "np.sqrt(-1) == np.emath.sqrt(-1)"
   ]
  },
  {
   "cell_type": "code",
   "execution_count": 30,
   "metadata": {
    "collapsed": false
   },
   "outputs": [
    {
     "data": {
      "text/plain": [
       "array([[ 0.1178489 ,  0.36458839,  0.02645159,  0.79472001,  0.77328189,\n",
       "         0.96428924,  0.46407114,  0.43380851,  0.02680998,  0.7828265 ,\n",
       "         0.91312115,  0.06066217,  0.30188767,  0.92409663,  0.00970068,\n",
       "         0.89491664,  0.60173859,  0.81896093,  0.17489518,  0.98235282,\n",
       "         0.58601886,  0.11973234,  0.36051914,  0.57651959,  0.66499875,\n",
       "         0.12931587,  0.43115512,  0.79157178,  0.04538297,  0.39831896]])"
      ]
     },
     "execution_count": 30,
     "metadata": {},
     "output_type": "execute_result"
    }
   ],
   "source": [
    "A = random.rand(1,30)\n",
    "\n",
    "A"
   ]
  },
  {
   "cell_type": "code",
   "execution_count": 34,
   "metadata": {
    "collapsed": false
   },
   "outputs": [
    {
     "data": {
      "text/plain": [
       "30"
      ]
     },
     "execution_count": 34,
     "metadata": {},
     "output_type": "execute_result"
    }
   ],
   "source": [
    "size(A)"
   ]
  },
  {
   "cell_type": "code",
   "execution_count": 33,
   "metadata": {
    "collapsed": false
   },
   "outputs": [
    {
     "data": {
      "text/plain": [
       "0.48448539910987903"
      ]
     },
     "execution_count": 33,
     "metadata": {},
     "output_type": "execute_result"
    }
   ],
   "source": [
    "mean(A)"
   ]
  },
  {
   "cell_type": "code",
   "execution_count": 55,
   "metadata": {
    "collapsed": false
   },
   "outputs": [
    {
     "name": "stdout",
     "output_type": "stream",
     "text": [
      "[[ 0.54020311  0.49489176]\n",
      " [ 0.46834298  0.81937196]\n",
      " [ 0.79928372  1.35885873]\n",
      " [ 0.40135265  1.01157399]\n",
      " [ 0.51926794  0.96696203]]\n",
      "[[ 0.54020311  0.49489176]\n",
      " [ 0.46834298  0.81937196]\n",
      " [ 0.79928372  1.35885873]\n",
      " [ 0.40135265  1.01157399]\n",
      " [ 0.51926794  0.96696203]]\n"
     ]
    }
   ],
   "source": [
    "B = random.rand(5,3)\n",
    "B = matrix(B)\n",
    "\n",
    "C = random.rand(3,2)\n",
    "C = matrix(C)\n",
    "\n",
    "print(B * C)\n",
    "\n",
    "print(dot (B,C))"
   ]
  },
  {
   "cell_type": "code",
   "execution_count": 57,
   "metadata": {
    "collapsed": false
   },
   "outputs": [
    {
     "data": {
      "text/plain": [
       "array([ 0.7845027 ,  0.65508854,  0.60027652,  0.8684271 ,  0.14556244,\n",
       "        0.90294431,  0.33754626,  0.56069159,  0.78772759,  0.9937006 ])"
      ]
     },
     "execution_count": 57,
     "metadata": {},
     "output_type": "execute_result"
    }
   ],
   "source": [
    "E = random.rand(10)\n",
    "E"
   ]
  },
  {
   "cell_type": "code",
   "execution_count": 60,
   "metadata": {
    "collapsed": false
   },
   "outputs": [
    {
     "data": {
      "text/plain": [
       "array([ 0.14556244,  0.33754626,  0.56069159,  0.60027652,  0.65508854,\n",
       "        0.7845027 ,  0.78772759,  0.8684271 ,  0.90294431,  0.9937006 ])"
      ]
     },
     "execution_count": 60,
     "metadata": {},
     "output_type": "execute_result"
    }
   ],
   "source": [
    "sort(E)"
   ]
  },
  {
   "cell_type": "code",
   "execution_count": 76,
   "metadata": {
    "collapsed": false
   },
   "outputs": [
    {
     "data": {
      "text/plain": [
       "array([  5.17701153e-04,   2.75254112e-03,   1.31323173e-02,\n",
       "         1.40421560e-02,   2.42800465e-02,   2.44836010e-02,\n",
       "         2.74297818e-02,   3.17977425e-02,   3.49592096e-02,\n",
       "         3.73397608e-02,   5.13146246e-02,   6.35081343e-02,\n",
       "         6.64379315e-02,   6.80218046e-02,   7.21195471e-02,\n",
       "         8.93245955e-02,   9.19969374e-02,   9.23867401e-02,\n",
       "         1.19500986e-01,   1.28830212e-01,   1.33859085e-01,\n",
       "         1.45368678e-01,   1.64858926e-01,   1.66398317e-01,\n",
       "         1.69313146e-01,   1.69606931e-01,   2.00543522e-01,\n",
       "         2.01860280e-01,   2.26643930e-01,   2.30280974e-01,\n",
       "         2.51161467e-01,   2.59208204e-01,   2.70094021e-01,\n",
       "         2.95008344e-01,   3.09348593e-01,   3.23582835e-01,\n",
       "         3.37229961e-01,   3.80848433e-01,   3.85953557e-01,\n",
       "         4.17186762e-01,   4.26242650e-01,   4.33279441e-01,\n",
       "         4.34937117e-01,   4.36758200e-01,   4.69746412e-01,\n",
       "         4.87426047e-01,   4.89159176e-01,   5.01833570e-01,\n",
       "         5.08620230e-01,   5.17426033e-01,   5.24168364e-01,\n",
       "         5.25127589e-01,   5.28963865e-01,   5.30516313e-01,\n",
       "         5.66613674e-01,   5.73929432e-01,   5.78823384e-01,\n",
       "         5.80918182e-01,   6.03633018e-01,   6.05251804e-01,\n",
       "         6.21469144e-01,   6.25998601e-01,   6.28684703e-01,\n",
       "         6.34750802e-01,   6.58713045e-01,   6.66250949e-01,\n",
       "         6.66419296e-01,   6.80988691e-01,   6.81128575e-01,\n",
       "         6.86516514e-01,   6.91522780e-01,   6.93401370e-01,\n",
       "         7.07413023e-01,   7.08676671e-01,   7.16223855e-01,\n",
       "         7.16446508e-01,   7.19370761e-01,   7.21062551e-01,\n",
       "         7.21944549e-01,   7.64834169e-01,   7.66654962e-01,\n",
       "         7.97001911e-01,   8.09257075e-01,   8.38161871e-01,\n",
       "         8.64846792e-01,   8.78467057e-01,   9.09946755e-01,\n",
       "         9.19698778e-01,   9.23708806e-01,   9.26799810e-01,\n",
       "         9.37522174e-01,   9.47968519e-01,   9.49513117e-01,\n",
       "         9.57283153e-01,   9.60297458e-01,   9.74757784e-01,\n",
       "         9.78586061e-01,   9.86980120e-01,   9.97207096e-01,\n",
       "         0.00000000e+00])"
      ]
     },
     "execution_count": 76,
     "metadata": {},
     "output_type": "execute_result"
    }
   ],
   "source": [
    "F = random.rand(100)\n",
    "F = sort(F)\n",
    "\n",
    "F[99] = 0\n",
    "\n",
    "F"
   ]
  },
  {
   "cell_type": "code",
   "execution_count": 100,
   "metadata": {
    "collapsed": false
   },
   "outputs": [
    {
     "data": {
      "text/plain": [
       "array([[ 1.,  0.,  0.],\n",
       "       [ 0.,  1.,  0.],\n",
       "       [ 0.,  0.,  1.]])"
      ]
     },
     "execution_count": 100,
     "metadata": {},
     "output_type": "execute_result"
    }
   ],
   "source": [
    "AA = random.rand(3,3)\n",
    "\n",
    "AA_inv = linalg.inv(AA)\n",
    "\n",
    "IAA = dot(AA,AA_inv)\n",
    "\n",
    "abs(np.round(IAA))"
   ]
  },
  {
   "cell_type": "code",
   "execution_count": null,
   "metadata": {
    "collapsed": true
   },
   "outputs": [],
   "source": []
  }
 ],
 "metadata": {
  "kernelspec": {
   "display_name": "Python 3",
   "language": "python",
   "name": "python3"
  },
  "language_info": {
   "codemirror_mode": {
    "name": "ipython",
    "version": 3
   },
   "file_extension": ".py",
   "mimetype": "text/x-python",
   "name": "python",
   "nbconvert_exporter": "python",
   "pygments_lexer": "ipython3",
   "version": "3.6.0"
  }
 },
 "nbformat": 4,
 "nbformat_minor": 2
}
